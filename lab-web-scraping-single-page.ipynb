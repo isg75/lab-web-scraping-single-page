{
 "cells": [
  {
   "cell_type": "code",
   "execution_count": 1,
   "id": "088165f8-6fa5-4d39-acb4-52e07def76ed",
   "metadata": {},
   "outputs": [],
   "source": [
    "from bs4 import BeautifulSoup\n",
    "import requests\n",
    "import pandas as pd\n",
    "import re"
   ]
  },
  {
   "cell_type": "code",
   "execution_count": 2,
   "id": "138a1dfc-0c7c-448d-896e-90cb6c7464ca",
   "metadata": {},
   "outputs": [],
   "source": [
    "url = \"https://www.billboard.com/charts/hot-100/\""
   ]
  },
  {
   "cell_type": "code",
   "execution_count": 3,
   "id": "58989a6a-e6e0-47be-ad38-3a5fe9abf668",
   "metadata": {},
   "outputs": [
    {
     "data": {
      "text/plain": [
       "200"
      ]
     },
     "execution_count": 3,
     "metadata": {},
     "output_type": "execute_result"
    }
   ],
   "source": [
    "response = requests.get(url)\n",
    "response.status_code # 200 status code means OK!"
   ]
  },
  {
   "cell_type": "code",
   "execution_count": 4,
   "id": "93d8876c-0347-49be-8be2-68808c8f7e97",
   "metadata": {},
   "outputs": [],
   "source": [
    "soup = BeautifulSoup(response.text, \"html.parser\")"
   ]
  },
  {
   "cell_type": "code",
   "execution_count": 5,
   "id": "a7389131-2ece-428b-9608-20bd9ad32635",
   "metadata": {},
   "outputs": [],
   "source": [
    "title = []\n",
    "for li in soup.select(\"li.lrv-u-width-100p li h3\"):\n",
    "    title.append(li.get_text().strip())"
   ]
  },
  {
   "cell_type": "code",
   "execution_count": 6,
   "id": "af2f276a-9be4-4812-aaad-c355fd44f275",
   "metadata": {},
   "outputs": [],
   "source": [
    "artist = []\n",
    "for i in soup.select(\"li.lrv-u-width-100p li span\"):\n",
    "    text = i.get_text().strip()\n",
    "    match = re.match(r'^[A-Za-z\\s]+(?:[A-Za-z0-9\\s\\W]*[A-Za-z0-9])?$', text)\n",
    "    if match:\n",
    "        artist.append(text)       "
   ]
  },
  {
   "cell_type": "code",
   "execution_count": 7,
   "id": "ae9d6239-d7c3-483b-b8e7-d918d4013c82",
   "metadata": {},
   "outputs": [],
   "source": [
    "hot_100_songs = pd.DataFrame({\"Title\": title, \"Artist\": artist})"
   ]
  },
  {
   "cell_type": "code",
   "execution_count": 9,
   "id": "fa3f2692-3ae6-428d-a407-cd072bb97560",
   "metadata": {},
   "outputs": [
    {
     "name": "stdout",
     "output_type": "stream",
     "text": [
      "Writing scraping.py\n"
     ]
    }
   ],
   "source": [
    "%%writefile scraping.py\n",
    "\n",
    "import requests\n",
    "from bs4 import BeautifulSoup\n",
    "import re\n",
    "import pandas as pd\n",
    "\n",
    "def scrape_100():\n",
    "    \n",
    "    \"\"\"\n",
    "    Scrapes the Billboard Hot 100 chart and returns a DataFrame with song titles and artists.\n",
    "    \n",
    "    Returns:\n",
    "        pandas.DataFrame: DataFrame containing the song titles and artists.\n",
    "    \"\"\"\n",
    "    \n",
    "    url = \"https://www.billboard.com/charts/hot-100/\"\n",
    "    response = requests.get(url)\n",
    "    soup = BeautifulSoup(response.text, \"html.parser\")\n",
    "\n",
    "    # Scrapping for the titles of the Hot 100\n",
    "    title = []\n",
    "    for li in soup.select(\"li.lrv-u-width-100p li h3\"):\n",
    "        title.append(li.get_text().strip())\n",
    "        \n",
    "    # Scrapping for their respective artists    \n",
    "    artist = []\n",
    "    for i in soup.select(\"li.lrv-u-width-100p li span\"):\n",
    "        text = i.get_text().strip()\n",
    "        match = re.match(r'^[A-Za-z\\s]+(?:[A-Za-z0-9\\s\\W]*[A-Za-z0-9])?$', text)\n",
    "        if match:\n",
    "            artist.append(text)\n",
    "    \n",
    "    # Saving the data into a DataFrame\n",
    "    hot_100_songs = pd.DataFrame({\"Title\": title, \"Artist\": artist})\n",
    "\n",
    "    return hot_100_songs"
   ]
  },
  {
   "cell_type": "code",
   "execution_count": null,
   "id": "2840bd96-995b-43c3-bb65-944f22f0a768",
   "metadata": {},
   "outputs": [],
   "source": []
  }
 ],
 "metadata": {
  "kernelspec": {
   "display_name": "Python 3 (ipykernel)",
   "language": "python",
   "name": "python3"
  },
  "language_info": {
   "codemirror_mode": {
    "name": "ipython",
    "version": 3
   },
   "file_extension": ".py",
   "mimetype": "text/x-python",
   "name": "python",
   "nbconvert_exporter": "python",
   "pygments_lexer": "ipython3",
   "version": "3.10.9"
  }
 },
 "nbformat": 4,
 "nbformat_minor": 5
}
